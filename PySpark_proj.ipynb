{
  "nbformat": 4,
  "nbformat_minor": 0,
  "metadata": {
    "colab": {
      "provenance": [],
      "authorship_tag": "ABX9TyMX9mqJ+piOWBD55t4he18B"
    },
    "kernelspec": {
      "name": "python3",
      "display_name": "Python 3"
    },
    "language_info": {
      "name": "python"
    }
  },
  "cells": [
    {
      "cell_type": "code",
      "source": [
        "from pyspark.sql import SparkSession\n",
        "spark = SparkSession.builder.appName('DataEngineering').getOrCreate()\n",
        "df = spark.read.csv('/content/sample_data/california_housing_test.csv', header=True, inferSchema=True)\n",
        "# For Parquet: df = spark.read.parquet('path/to/parquet')\n",
        "#print(df.printSchema())\n",
        "df.show(10)"
      ],
      "metadata": {
        "colab": {
          "base_uri": "https://localhost:8080/"
        },
        "id": "yz4sp6jV9pQj",
        "outputId": "f9b116be-5364-4489-b32c-9d50b4d60017"
      },
      "execution_count": null,
      "outputs": [
        {
          "output_type": "stream",
          "name": "stdout",
          "text": [
            "+---------+--------+------------------+-----------+--------------+----------+----------+-------------+------------------+\n",
            "|longitude|latitude|housing_median_age|total_rooms|total_bedrooms|population|households|median_income|median_house_value|\n",
            "+---------+--------+------------------+-----------+--------------+----------+----------+-------------+------------------+\n",
            "|  -122.05|   37.37|              27.0|     3885.0|         661.0|    1537.0|     606.0|       6.6085|          344700.0|\n",
            "|   -118.3|   34.26|              43.0|     1510.0|         310.0|     809.0|     277.0|        3.599|          176500.0|\n",
            "|  -117.81|   33.78|              27.0|     3589.0|         507.0|    1484.0|     495.0|       5.7934|          270500.0|\n",
            "|  -118.36|   33.82|              28.0|       67.0|          15.0|      49.0|      11.0|       6.1359|          330000.0|\n",
            "|  -119.67|   36.33|              19.0|     1241.0|         244.0|     850.0|     237.0|       2.9375|           81700.0|\n",
            "|  -119.56|   36.51|              37.0|     1018.0|         213.0|     663.0|     204.0|       1.6635|           67000.0|\n",
            "|  -121.43|   38.63|              43.0|     1009.0|         225.0|     604.0|     218.0|       1.6641|           67000.0|\n",
            "|  -120.65|   35.48|              19.0|     2310.0|         471.0|    1341.0|     441.0|        3.225|          166900.0|\n",
            "|  -122.84|    38.4|              15.0|     3080.0|         617.0|    1446.0|     599.0|       3.6696|          194400.0|\n",
            "|  -118.02|   34.08|              31.0|     2402.0|         632.0|    2830.0|     603.0|       2.3333|          164200.0|\n",
            "+---------+--------+------------------+-----------+--------------+----------+----------+-------------+------------------+\n",
            "only showing top 10 rows\n",
            "\n"
          ]
        }
      ]
    },
    {
      "cell_type": "code",
      "source": [
        "from pyspark.sql.functions import col\n",
        "df_clean = df.select('housing_median_age', 'median_house_value', col('total_rooms').cast('int')) \\\n",
        "    .filter(col('median_house_value') > 100000) \\\n",
        "    .dropna() \\\n",
        "    .orderBy(col('housing_median_age').desc()) \\\n",
        "    .dropDuplicates(['housing_median_age']) \\\n",
        "    .withColumn('duplex_room', col('total_rooms') * 2)\n",
        "df_clean.show(10)"
      ],
      "metadata": {
        "colab": {
          "base_uri": "https://localhost:8080/"
        },
        "id": "JBDk6CbM_P90",
        "outputId": "8d9eedcd-49ed-4fbb-ee6f-f31ea8ca77aa"
      },
      "execution_count": null,
      "outputs": [
        {
          "output_type": "stream",
          "name": "stdout",
          "text": [
            "+------------------+------------------+-----------+-----------+\n",
            "|housing_median_age|median_house_value|total_rooms|duplex_room|\n",
            "+------------------+------------------+-----------+-----------+\n",
            "|              52.0|          250000.0|       3587|       7174|\n",
            "|              51.0|          162500.0|       1005|       2010|\n",
            "|              50.0|          295200.0|       2935|       5870|\n",
            "|              49.0|          116800.0|       2120|       4240|\n",
            "|              48.0|          214800.0|       1308|       2616|\n",
            "|              47.0|          241500.0|       2994|       5988|\n",
            "|              46.0|          137500.0|        860|       1720|\n",
            "|              45.0|          125000.0|        972|       1944|\n",
            "|              44.0|          292200.0|       1449|       2898|\n",
            "|              43.0|          176500.0|       1510|       3020|\n",
            "+------------------+------------------+-----------+-----------+\n",
            "only showing top 10 rows\n",
            "\n"
          ]
        }
      ]
    },
    {
      "cell_type": "code",
      "source": [
        "from pyspark.sql.functions import col, sum\n",
        "df_train = spark.read.csv('/content/sample_data/california_housing_train.csv', header=True, inferSchema=True)\n",
        "#orders.show(10)\n",
        "df_joined = df.join(df_train, (df.latitude == df_train.latitude) & (df.longitude == df_train.longitude), 'inner')\n",
        "#df_joined.select(df.housing_median_age).show()\n",
        "agg_df = df_joined.groupBy(df_train.housing_median_age).agg(sum(df_train.median_house_value).alias('sum_median_house_value'))\n",
        "agg_df.show(10)"
      ],
      "metadata": {
        "colab": {
          "base_uri": "https://localhost:8080/"
        },
        "id": "87pIf8iDKZ2B",
        "outputId": "14ce9ae9-903e-4683-a9a8-58fcf8ae21c4"
      },
      "execution_count": null,
      "outputs": [
        {
          "output_type": "stream",
          "name": "stdout",
          "text": [
            "+------------------+----------------------+\n",
            "|housing_median_age|sum_median_house_value|\n",
            "+------------------+----------------------+\n",
            "|               8.0|             1687000.0|\n",
            "|               7.0|              568000.0|\n",
            "|              49.0|             8132700.0|\n",
            "|              29.0|           1.5079601E7|\n",
            "|              47.0|             1.10846E7|\n",
            "|              42.0|           2.1801105E7|\n",
            "|              44.0|           2.2057104E7|\n",
            "|              35.0|           3.6042602E7|\n",
            "|              18.0|           1.0158903E7|\n",
            "|              39.0|           1.7574302E7|\n",
            "+------------------+----------------------+\n",
            "only showing top 10 rows\n",
            "\n"
          ]
        }
      ]
    },
    {
      "cell_type": "code",
      "source": [
        "from pyspark.sql.window import Window\n",
        "from pyspark.sql.functions import row_number, col\n",
        "\n",
        "windowSpec = Window.partitionBy(df_train.housing_median_age).orderBy(df_train.median_house_value.desc())\n",
        "df_ranked = df_joined.withColumn('rank', row_number().over(windowSpec))\n",
        "\n",
        "# Select all columns from df_train and the 'rank' column\n",
        "df_final = [df_train[col_name] for col_name in df_train.columns] + [col('rank')]\n",
        "df_ranked.select(df_final).show(10)"
      ],
      "metadata": {
        "colab": {
          "base_uri": "https://localhost:8080/"
        },
        "id": "8rAP01OYRykR",
        "outputId": "d05fd4a1-c64e-4b19-82c9-86b7c2b9ff63"
      },
      "execution_count": null,
      "outputs": [
        {
          "output_type": "stream",
          "name": "stdout",
          "text": [
            "+---------+--------+------------------+-----------+--------------+----------+----------+-------------+------------------+----+\n",
            "|longitude|latitude|housing_median_age|total_rooms|total_bedrooms|population|households|median_income|median_house_value|rank|\n",
            "+---------+--------+------------------+-----------+--------------+----------+----------+-------------+------------------+----+\n",
            "|  -122.43|   37.78|               2.0|     1205.0|         468.0|     577.0|     363.0|       3.6437|          275000.0|   1|\n",
            "|  -122.43|   37.78|               2.0|     1205.0|         468.0|     577.0|     363.0|       3.6437|          275000.0|   2|\n",
            "|  -117.26|   33.19|               2.0|     2629.0|         509.0|    1044.0|     522.0|       4.2361|          158500.0|   3|\n",
            "|  -117.59|   33.65|               2.0|     4860.0|        1193.0|    2332.0|    1073.0|       4.5022|          151900.0|   4|\n",
            "|  -117.82|   33.68|               3.0|     7105.0|        1459.0|    3068.0|    1241.0|       6.1395|          358000.0|   1|\n",
            "|  -117.82|   33.68|               3.0|     3068.0|         494.0|    1357.0|     486.0|       7.9187|          333600.0|   2|\n",
            "|  -121.88|   37.37|               3.0|     4430.0|         841.0|    2559.0|     801.0|       6.0959|          272700.0|   3|\n",
            "|  -122.33|   37.98|               3.0|     2850.0|         544.0|    1024.0|     515.0|       6.0115|          175000.0|   4|\n",
            "|  -117.69|   33.55|               4.0|     1764.0|         220.0|     705.0|     224.0|       8.3275|          384200.0|   1|\n",
            "|  -121.92|   37.72|               4.0|     7477.0|        1576.0|    2937.0|    1506.0|       5.1437|          299400.0|   2|\n",
            "+---------+--------+------------------+-----------+--------------+----------+----------+-------------+------------------+----+\n",
            "only showing top 10 rows\n",
            "\n"
          ]
        }
      ]
    }
  ]
}